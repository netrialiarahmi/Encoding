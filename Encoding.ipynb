{
  "nbformat": 4,
  "nbformat_minor": 0,
  "metadata": {
    "colab": {
      "provenance": [],
      "authorship_tag": "ABX9TyObun85vkHlUlcFBg6dzLeE"
    },
    "kernelspec": {
      "name": "python3",
      "display_name": "Python 3"
    },
    "language_info": {
      "name": "python"
    }
  },
  "cells": [
    {
      "cell_type": "markdown",
      "source": [
        "## One-Hot Encoding"
      ],
      "metadata": {
        "id": "KGc-nopd75RP"
      }
    },
    {
      "cell_type": "code",
      "source": [
        "import pandas as pd\n",
        "from sklearn.preprocessing import OneHotEncoder\n",
        "\n",
        "# Contoh data\n",
        "data = pd.DataFrame({'Warna Kesukaan': ['Biru', 'Merah', 'Hijau', 'Biru', 'Hijau', 'Hijau', 'Biru']})\n",
        "\n",
        "# Inisialisasi One-Hot Encoder\n",
        "encoder = OneHotEncoder(categories=[['Biru', 'Merah', 'Hijau']])\n",
        "\n",
        "# Fit data dan transform menjadi One-Hot Encoding\n",
        "one_hot_encoded = encoder.fit_transform(data[['Warna Kesukaan']])\n",
        "\n",
        "# Dapatkan nama kolom untuk data yang di-encode\n",
        "feature_names = encoder.get_feature_names_out(['Warna Kesukaan'])\n",
        "\n",
        "# Konversi hasil transform menjadi DataFrame dengan nama kolom yang sesuai\n",
        "result = pd.DataFrame(one_hot_encoded.toarray(), columns=feature_names)\n",
        "\n",
        "# Gabungkan hasil transform dengan data awal\n",
        "result = pd.concat([data, result], axis=1)\n",
        "\n",
        "print(result)\n"
      ],
      "metadata": {
        "colab": {
          "base_uri": "https://localhost:8080/"
        },
        "id": "2hFDDTzT8AB5",
        "outputId": "f2d13a95-fc82-450c-fc88-951c5c19fc79"
      },
      "execution_count": 8,
      "outputs": [
        {
          "output_type": "stream",
          "name": "stdout",
          "text": [
            "  Warna Kesukaan  Warna Kesukaan_Biru  Warna Kesukaan_Merah  \\\n",
            "0           Biru                  1.0                   0.0   \n",
            "1          Merah                  0.0                   1.0   \n",
            "2          Hijau                  0.0                   0.0   \n",
            "3           Biru                  1.0                   0.0   \n",
            "4          Hijau                  0.0                   0.0   \n",
            "5          Hijau                  0.0                   0.0   \n",
            "6           Biru                  1.0                   0.0   \n",
            "\n",
            "   Warna Kesukaan_Hijau  \n",
            "0                   0.0  \n",
            "1                   0.0  \n",
            "2                   1.0  \n",
            "3                   0.0  \n",
            "4                   1.0  \n",
            "5                   1.0  \n",
            "6                   0.0  \n"
          ]
        }
      ]
    },
    {
      "cell_type": "markdown",
      "source": [
        "## Label Encoding"
      ],
      "metadata": {
        "id": "pZ7vUJoG9AFs"
      }
    },
    {
      "cell_type": "code",
      "source": [
        "import pandas as pd\n",
        "from sklearn.preprocessing import LabelEncoder\n",
        "\n",
        "# Contoh data\n",
        "data = pd.DataFrame({'Warna Kesukaan': ['Biru', 'Merah', 'Hijau', 'Biru', 'Hijau', 'Hijau', 'Biru']})\n",
        "\n",
        "# Inisialisasi Label Encoder\n",
        "encoder = LabelEncoder()\n",
        "\n",
        "# Fit data dan transform menjadi Label Encoding\n",
        "label_encoded = encoder.fit_transform(data['Warna Kesukaan'])\n",
        "\n",
        "# Konversi hasil transform menjadi DataFrame\n",
        "result = pd.DataFrame(label_encoded, columns=['Warna Kesukaan Encoded'])\n",
        "\n",
        "print(result)\n"
      ],
      "metadata": {
        "colab": {
          "base_uri": "https://localhost:8080/"
        },
        "id": "oYPjygzC9H1w",
        "outputId": "66d7d042-4cc7-4408-d8ea-78b1d659697a"
      },
      "execution_count": 9,
      "outputs": [
        {
          "output_type": "stream",
          "name": "stdout",
          "text": [
            "   Warna Kesukaan Encoded\n",
            "0                       0\n",
            "1                       2\n",
            "2                       1\n",
            "3                       0\n",
            "4                       1\n",
            "5                       1\n",
            "6                       0\n"
          ]
        }
      ]
    },
    {
      "cell_type": "markdown",
      "source": [
        "## Target Encoding"
      ],
      "metadata": {
        "id": "QCukQO-Q9LZF"
      }
    },
    {
      "cell_type": "code",
      "source": [
        "import pandas as pd\n",
        "from category_encoders import TargetEncoder\n",
        "\n",
        "# Contoh data\n",
        "data = pd.DataFrame({'Warna Kesukaan': ['Biru', 'Merah', 'Hijau', 'Biru', 'Hijau', 'Hijau', 'Biru'],\n",
        "                     'Target': [1, 0, 1, 0, 1, 0, 0]})\n",
        "\n",
        "# Inisialisasi Target Encoder\n",
        "encoder = TargetEncoder()\n",
        "\n",
        "# Fit data dan transform menjadi Target Encoding\n",
        "target_encoded = encoder.fit_transform(data['Warna Kesukaan'], data['Target'])\n",
        "\n",
        "# Gabungkan hasil transform dengan data asli\n",
        "data_encoded = pd.concat([data.drop('Warna Kesukaan', axis=1), target_encoded], axis=1)\n",
        "\n",
        "print(data_encoded)\n"
      ],
      "metadata": {
        "colab": {
          "base_uri": "https://localhost:8080/"
        },
        "id": "r1HjMoqh-fQe",
        "outputId": "7d41591e-ef91-4791-92b3-1782600dd0e0"
      },
      "execution_count": 16,
      "outputs": [
        {
          "output_type": "stream",
          "name": "stdout",
          "text": [
            "   Target  Warna Kesukaan\n",
            "0       1        0.413860\n",
            "1       0        0.372811\n",
            "2       1        0.465349\n",
            "3       0        0.413860\n",
            "4       1        0.465349\n",
            "5       0        0.465349\n",
            "6       0        0.413860\n"
          ]
        }
      ]
    },
    {
      "cell_type": "markdown",
      "source": [
        "## Beyesian Mean Target Encoding"
      ],
      "metadata": {
        "id": "ZxUOzGrVA4_s"
      }
    },
    {
      "cell_type": "code",
      "source": [
        "import pandas as pd\n",
        "from category_encoders import CatBoostEncoder\n",
        "\n",
        "# Contoh data\n",
        "data = pd.DataFrame({'Warna Kesukaan': ['Biru', 'Merah', 'Hijau', 'Biru', 'Hijau', 'Hijau', 'Biru'],\n",
        "                     'Target': [1, 0, 1, 0, 1, 0, 0]})\n",
        "\n",
        "# Inisialisasi CatBoost Encoder\n",
        "encoder = CatBoostEncoder()\n",
        "\n",
        "# Fit data dan transform menjadi Target Encoding\n",
        "target_encoded = encoder.fit_transform(data['Warna Kesukaan'], data['Target'])\n",
        "\n",
        "# Gabungkan hasil transform dengan data asli\n",
        "data_encoded = pd.concat([data.drop('Warna Kesukaan', axis=1), target_encoded], axis=1)\n",
        "\n",
        "print(data_encoded)\n"
      ],
      "metadata": {
        "colab": {
          "base_uri": "https://localhost:8080/"
        },
        "id": "4FTT5cj5A_Wl",
        "outputId": "2c557bff-551c-4214-ee48-1850eb990e2f"
      },
      "execution_count": 20,
      "outputs": [
        {
          "output_type": "stream",
          "name": "stdout",
          "text": [
            "   Target  Warna Kesukaan\n",
            "0       1        0.428571\n",
            "1       0        0.428571\n",
            "2       1        0.428571\n",
            "3       0        0.714286\n",
            "4       1        0.714286\n",
            "5       0        0.809524\n",
            "6       0        0.476190\n"
          ]
        }
      ]
    },
    {
      "cell_type": "markdown",
      "source": [
        "## K-Fold-Encoding"
      ],
      "metadata": {
        "id": "_kbuhPfCB2Op"
      }
    },
    {
      "cell_type": "code",
      "source": [
        "import pandas as pd\n",
        "from sklearn.model_selection import KFold\n",
        "from category_encoders import TargetEncoder\n",
        "\n",
        "# Contoh data\n",
        "data = pd.DataFrame({'Warna Kesukaan': ['Biru', 'Merah', 'Hijau', 'Biru', 'Hijau', 'Hijau', 'Biru'],\n",
        "                     'Target': [1, 0, 1, 0, 1, 0, 0]})\n",
        "\n",
        "# Inisialisasi KFold\n",
        "kf = KFold(n_splits=2)\n",
        "\n",
        "# Inisialisasi Target Encoder\n",
        "encoder = TargetEncoder()\n",
        "\n",
        "# Lakukan KFold encoding\n",
        "for i, (train_index, test_index) in enumerate(kf.split(data)):\n",
        "    X_train, X_test = data.loc[train_index], data.loc[test_index]\n",
        "    y_train = X_train.pop('Target')\n",
        "    X_test.drop('Target', axis=1, inplace=True) # hapus kolom \"Target\" pada data uji\n",
        "    X_train_encoded = encoder.fit_transform(X_train, y_train)\n",
        "    X_test_encoded = encoder.transform(X_test)\n",
        "    \n",
        "    # Lakukan training dan evaluasi model pada setiap fold di sini\n",
        "    \n",
        "    # Tampilkan data setelah encoding\n",
        "    print(f'Fold {i+1}:')\n",
        "    print(X_train_encoded)\n",
        "    print(X_test_encoded)\n",
        "    print('\\n')\n"
      ],
      "metadata": {
        "colab": {
          "base_uri": "https://localhost:8080/"
        },
        "id": "SriXsKYSB2l6",
        "outputId": "189908f8-6a9c-4039-91c0-c56fd18bb3c2"
      },
      "execution_count": 24,
      "outputs": [
        {
          "output_type": "stream",
          "name": "stdout",
          "text": [
            "Fold 1:\n",
            "   Warna Kesukaan\n",
            "4        0.356975\n",
            "5        0.356975\n",
            "6        0.289964\n",
            "   Warna Kesukaan\n",
            "0        0.289964\n",
            "1        0.333333\n",
            "2        0.356975\n",
            "3        0.289964\n",
            "\n",
            "\n",
            "Fold 2:\n",
            "   Warna Kesukaan\n",
            "0        0.500000\n",
            "1        0.434946\n",
            "2        0.565054\n",
            "3        0.500000\n",
            "   Warna Kesukaan\n",
            "4        0.565054\n",
            "5        0.565054\n",
            "6        0.500000\n",
            "\n",
            "\n"
          ]
        }
      ]
    },
    {
      "cell_type": "markdown",
      "source": [
        "## Leave-One-Out Target Encoding"
      ],
      "metadata": {
        "id": "vgVmImRl7woY"
      }
    },
    {
      "cell_type": "code",
      "source": [
        "!pip install category_encoders"
      ],
      "metadata": {
        "colab": {
          "base_uri": "https://localhost:8080/"
        },
        "id": "8M2h7UuL7bko",
        "outputId": "0da3439c-35ce-4fa9-feed-1723feffc8ba"
      },
      "execution_count": 18,
      "outputs": [
        {
          "output_type": "stream",
          "name": "stdout",
          "text": [
            "Looking in indexes: https://pypi.org/simple, https://us-python.pkg.dev/colab-wheels/public/simple/\n",
            "Requirement already satisfied: category_encoders in /usr/local/lib/python3.9/dist-packages (2.6.0)\n",
            "Requirement already satisfied: pandas>=1.0.5 in /usr/local/lib/python3.9/dist-packages (from category_encoders) (1.5.3)\n",
            "Requirement already satisfied: patsy>=0.5.1 in /usr/local/lib/python3.9/dist-packages (from category_encoders) (0.5.3)\n",
            "Requirement already satisfied: statsmodels>=0.9.0 in /usr/local/lib/python3.9/dist-packages (from category_encoders) (0.13.5)\n",
            "Requirement already satisfied: scipy>=1.0.0 in /usr/local/lib/python3.9/dist-packages (from category_encoders) (1.10.1)\n",
            "Requirement already satisfied: numpy>=1.14.0 in /usr/local/lib/python3.9/dist-packages (from category_encoders) (1.22.4)\n",
            "Requirement already satisfied: scikit-learn>=0.20.0 in /usr/local/lib/python3.9/dist-packages (from category_encoders) (1.2.2)\n",
            "Requirement already satisfied: python-dateutil>=2.8.1 in /usr/local/lib/python3.9/dist-packages (from pandas>=1.0.5->category_encoders) (2.8.2)\n",
            "Requirement already satisfied: pytz>=2020.1 in /usr/local/lib/python3.9/dist-packages (from pandas>=1.0.5->category_encoders) (2022.7.1)\n",
            "Requirement already satisfied: six in /usr/local/lib/python3.9/dist-packages (from patsy>=0.5.1->category_encoders) (1.16.0)\n",
            "Requirement already satisfied: joblib>=1.1.1 in /usr/local/lib/python3.9/dist-packages (from scikit-learn>=0.20.0->category_encoders) (1.2.0)\n",
            "Requirement already satisfied: threadpoolctl>=2.0.0 in /usr/local/lib/python3.9/dist-packages (from scikit-learn>=0.20.0->category_encoders) (3.1.0)\n",
            "Requirement already satisfied: packaging>=21.3 in /usr/local/lib/python3.9/dist-packages (from statsmodels>=0.9.0->category_encoders) (23.1)\n"
          ]
        }
      ]
    },
    {
      "cell_type": "code",
      "execution_count": 27,
      "metadata": {
        "colab": {
          "base_uri": "https://localhost:8080/"
        },
        "id": "nTUyUEjz66jv",
        "outputId": "a410244b-3f71-435d-c59c-b01c99c93611"
      },
      "outputs": [
        {
          "output_type": "stream",
          "name": "stdout",
          "text": [
            "   Target  Warna Kesukaan\n",
            "0       1        0.000000\n",
            "1       0        0.428571\n",
            "2       1        0.500000\n",
            "3       0        0.500000\n",
            "4       1        0.500000\n",
            "5       0        1.000000\n",
            "6       0        0.500000\n"
          ]
        }
      ],
      "source": [
        "import pandas as pd\n",
        "from category_encoders import LeaveOneOutEncoder\n",
        "\n",
        "# Contoh data\n",
        "data = pd.DataFrame({'Warna Kesukaan': ['Biru', 'Merah', 'Hijau', 'Biru', 'Hijau', 'Hijau', 'Biru'],\n",
        "                     'Target': [1, 0, 1, 0, 1, 0, 0]})\n",
        "\n",
        "# Inisialisasi Leave-One-Out Encoder\n",
        "encoder = LeaveOneOutEncoder()\n",
        "\n",
        "# Fit data dan transform menjadi Leave-One-Out Encoding\n",
        "leave_one_out_encoded = encoder.fit_transform(data['Warna Kesukaan'], data['Target'])\n",
        "\n",
        "# Gabungkan hasil transform dengan data awal\n",
        "result = pd.concat([data.drop('Warna Kesukaan', axis=1), leave_one_out_encoded], axis=1)\n",
        "\n",
        "print(result)\n"
      ]
    }
  ]
}